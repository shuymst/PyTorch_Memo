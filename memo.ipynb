{
 "cells": [
  {
   "cell_type": "code",
   "execution_count": 24,
   "metadata": {},
   "outputs": [],
   "source": [
    "import torch\n",
    "import torch.nn as nn\n",
    "import torch.nn.functional as F\n",
    "import numpy as np"
   ]
  },
  {
   "cell_type": "markdown",
   "metadata": {},
   "source": [
    "### about shape"
   ]
  },
  {
   "cell_type": "code",
   "execution_count": 4,
   "metadata": {},
   "outputs": [
    {
     "name": "stdout",
     "output_type": "stream",
     "text": [
      "torch.Size([])\n",
      "torch.Size([1])\n",
      "torch.Size([1, 1])\n"
     ]
    }
   ],
   "source": [
    "x = torch.tensor(1)\n",
    "y = torch.tensor([1])\n",
    "z = torch.tensor([[1]])\n",
    "print(x.shape)\n",
    "print(y.shape)\n",
    "print(z.shape)"
   ]
  },
  {
   "attachments": {},
   "cell_type": "markdown",
   "metadata": {},
   "source": [
    "### torch.cat(tensors, dim=0)\n",
    "Concatenated tensors must have the same shape. <br>\n",
    "Tensors whose sizes are [] cannot be concatenated."
   ]
  },
  {
   "cell_type": "code",
   "execution_count": 9,
   "metadata": {},
   "outputs": [
    {
     "name": "stdout",
     "output_type": "stream",
     "text": [
      "tensor([1, 1])\n",
      "tensor([[1],\n",
      "        [1]])\n"
     ]
    }
   ],
   "source": [
    "x = torch.tensor(1)\n",
    "y = torch.tensor([1])\n",
    "z = torch.tensor([[1]])\n",
    "# print(torch.cat([x, x])) Error\n",
    "print(torch.cat([y, y]))\n",
    "print(torch.cat([z, z]))"
   ]
  },
  {
   "attachments": {},
   "cell_type": "markdown",
   "metadata": {},
   "source": [
    "### squeeze and unsqueeze"
   ]
  },
  {
   "attachments": {},
   "cell_type": "markdown",
   "metadata": {},
   "source": [
    "You should distinguish between tensors of size [x] and tensors of size [1, x]"
   ]
  },
  {
   "cell_type": "code",
   "execution_count": 23,
   "metadata": {},
   "outputs": [
    {
     "name": "stdout",
     "output_type": "stream",
     "text": [
      "x's shape : torch.Size([10])\n",
      "y's shape : torch.Size([1, 10])\n",
      "x_out : tensor([ 0.3916,  0.9076,  1.0526, -0.3560], grad_fn=<AddBackward0>)\n",
      "y_out : tensor([[ 0.3916,  0.9076,  1.0526, -0.3560]], grad_fn=<AddmmBackward0>)\n",
      "x_out's shape : torch.Size([4])\n",
      "y_out's shape : torch.Size([1, 4])\n"
     ]
    }
   ],
   "source": [
    "class Network(nn.Module):\n",
    "    def __init__(self):\n",
    "        super(Network, self).__init__()\n",
    "        self.fc1 = nn.Linear(10, 64)\n",
    "        self.fc2 = nn.Linear(64, 4)\n",
    "    \n",
    "    def forward(self, x):\n",
    "        h = F.relu(self.fc1(x))\n",
    "        out = self.fc2(h)\n",
    "        return out\n",
    "\n",
    "model = Network()\n",
    "x = torch.tensor([1,3,2,4,5,1,2,10,2,3]).float()\n",
    "y = x.unsqueeze(dim=0)\n",
    "print(f\"x's shape : {x.shape}\")\n",
    "print(f\"y's shape : {y.shape}\")\n",
    "x_out = model(x)\n",
    "y_out = model(y)\n",
    "print(f\"x_out : {x_out}\")\n",
    "print(f\"y_out : {y_out}\")\n",
    "print(f\"x_out's shape : {x_out.shape}\")\n",
    "print(f\"y_out's shape : {y_out.shape}\")"
   ]
  },
  {
   "attachments": {},
   "cell_type": "markdown",
   "metadata": {},
   "source": [
    "Especially you should be careful when comparing model's outputs and their target values."
   ]
  },
  {
   "cell_type": "code",
   "execution_count": 31,
   "metadata": {},
   "outputs": [
    {
     "name": "stdout",
     "output_type": "stream",
     "text": [
      "tensor([[-10.7460],\n",
      "        [-11.1797],\n",
      "        [ -1.1707],\n",
      "        [ -3.2383],\n",
      "        [ -0.7901],\n",
      "        [ -4.1679],\n",
      "        [  0.0161],\n",
      "        [ -2.6506],\n",
      "        [ -6.7087],\n",
      "        [ -9.1433],\n",
      "        [  8.3897],\n",
      "        [ -1.1377],\n",
      "        [ -0.3294],\n",
      "        [-13.0641],\n",
      "        [  7.9195]], grad_fn=<AddmmBackward0>)\n"
     ]
    }
   ],
   "source": [
    "class Network(nn.Module):\n",
    "    def __init__(self):\n",
    "        super(Network, self).__init__()\n",
    "        self.fc1 = nn.Linear(10, 64)\n",
    "        self.fc2 = nn.Linear(64, 1)\n",
    "    \n",
    "    def forward(self, x):\n",
    "        h = F.relu(self.fc1(x))\n",
    "        out = self.fc2(h)\n",
    "        return out\n",
    "\n",
    "model = Network()\n",
    "input_data = torch.randint(low=0, high=100, size=(15, 10)).float()\n",
    "outputs = model(input_data)\n",
    "print(outputs)"
   ]
  },
  {
   "cell_type": "code",
   "execution_count": 33,
   "metadata": {},
   "outputs": [
    {
     "name": "stdout",
     "output_type": "stream",
     "text": [
      "torch.Size([15, 1])\n",
      "torch.Size([15])\n"
     ]
    }
   ],
   "source": [
    "target_values = torch.randint(low=-30, high=30, size=(15,))\n",
    "print(outputs.shape)\n",
    "print(target_values.shape)"
   ]
  },
  {
   "cell_type": "code",
   "execution_count": 35,
   "metadata": {},
   "outputs": [
    {
     "name": "stdout",
     "output_type": "stream",
     "text": [
      "torch.Size([15, 15])\n"
     ]
    }
   ],
   "source": [
    "incorrect_mse_loss = (outputs - target_values) ** 2.0\n",
    "print(incorrect_mse_loss.shape)"
   ]
  },
  {
   "cell_type": "code",
   "execution_count": 36,
   "metadata": {},
   "outputs": [
    {
     "name": "stdout",
     "output_type": "stream",
     "text": [
      "True\n",
      "torch.Size([15])\n"
     ]
    }
   ],
   "source": [
    "outputs = outputs.squeeze()\n",
    "print(outputs.shape == target_values.shape)\n",
    "correct_mse_loss = (outputs - target_values) ** 2.0\n",
    "print(correct_mse_loss.shape)"
   ]
  },
  {
   "cell_type": "markdown",
   "metadata": {},
   "source": [
    " ### torch.max"
   ]
  },
  {
   "attachments": {},
   "cell_type": "markdown",
   "metadata": {},
   "source": [
    "one dimentinal array case"
   ]
  },
  {
   "cell_type": "code",
   "execution_count": 14,
   "metadata": {},
   "outputs": [
    {
     "data": {
      "text/plain": [
       "tensor([-0.8259,  0.1532,  0.4869,  0.6050])"
      ]
     },
     "execution_count": 14,
     "metadata": {},
     "output_type": "execute_result"
    }
   ],
   "source": [
    "one_dimentinal = torch.randn(size=(4,))\n",
    "one_dimentinal"
   ]
  },
  {
   "cell_type": "code",
   "execution_count": 15,
   "metadata": {},
   "outputs": [
    {
     "name": "stdout",
     "output_type": "stream",
     "text": [
      "tensor(0.6050)\n",
      "tensor(3)\n"
     ]
    }
   ],
   "source": [
    "print(torch.max(one_dimentinal))\n",
    "print(torch.argmax(one_dimentinal))"
   ]
  },
  {
   "attachments": {},
   "cell_type": "markdown",
   "metadata": {},
   "source": [
    "multi dimentional array case"
   ]
  },
  {
   "cell_type": "code",
   "execution_count": 16,
   "metadata": {},
   "outputs": [
    {
     "data": {
      "text/plain": [
       "tensor([[-0.1024,  1.7617,  0.3214, -0.4511],\n",
       "        [ 0.6514,  0.0096,  0.6269,  0.4008],\n",
       "        [-0.1541,  0.4636, -0.1261, -0.9660],\n",
       "        [-0.9941, -0.3250, -2.4723, -1.1183]])"
      ]
     },
     "execution_count": 16,
     "metadata": {},
     "output_type": "execute_result"
    }
   ],
   "source": [
    "multi_dimentinal = torch.randn(size=(4, 4))\n",
    "multi_dimentinal"
   ]
  },
  {
   "cell_type": "code",
   "execution_count": 17,
   "metadata": {},
   "outputs": [
    {
     "name": "stdout",
     "output_type": "stream",
     "text": [
      "tensor(1.7617)\n",
      "tensor(1)\n"
     ]
    }
   ],
   "source": [
    "print(torch.max(multi_dimentinal))\n",
    "print(torch.argmax(multi_dimentinal))"
   ]
  },
  {
   "cell_type": "code",
   "execution_count": 20,
   "metadata": {},
   "outputs": [
    {
     "name": "stdout",
     "output_type": "stream",
     "text": [
      "torch.return_types.max(\n",
      "values=tensor([ 1.7617,  0.6514,  0.4636, -0.3250]),\n",
      "indices=tensor([1, 0, 1, 1]))\n"
     ]
    }
   ],
   "source": [
    "print(torch.max(multi_dimentinal, dim=1))"
   ]
  },
  {
   "attachments": {},
   "cell_type": "markdown",
   "metadata": {},
   "source": [
    "### torch.gather\n",
    "torch.gather is convenient when you extract specific action values from the outputs of Q-Network."
   ]
  },
  {
   "cell_type": "code",
   "execution_count": 9,
   "metadata": {},
   "outputs": [
    {
     "name": "stdout",
     "output_type": "stream",
     "text": [
      "tensor([[-0.1670,  0.2223, -0.2218,  0.1082],\n",
      "        [ 0.3159,  0.0948, -0.0561, -0.2919],\n",
      "        [ 0.0075,  0.0884,  0.0200, -0.0119],\n",
      "        [-0.2024,  0.3445,  0.0845, -0.1729],\n",
      "        [-0.2071,  0.2636, -0.0842, -0.0267],\n",
      "        [ 0.4055,  0.1637,  0.1946, -0.1843],\n",
      "        [-0.0638,  0.0570, -0.1194,  0.0264],\n",
      "        [ 0.1102,  0.1326, -0.0682, -0.3671],\n",
      "        [-0.2040,  0.4147, -0.2616,  0.0087],\n",
      "        [ 0.0892, -0.0922, -0.1161,  0.0331]], grad_fn=<AddmmBackward0>)\n"
     ]
    }
   ],
   "source": [
    "class QNetwork(nn.Module):\n",
    "    def __init__(self):\n",
    "        super(QNetwork, self).__init__()\n",
    "        self.fc1 = nn.Linear(128, 64)\n",
    "        self.fc2 = nn.Linear(64, 4)\n",
    "    \n",
    "    def forward(self, x):\n",
    "        h = F.relu(self.fc1(x))\n",
    "        out = self.fc2(h)\n",
    "        return out\n",
    "\n",
    "model = QNetwork()\n",
    "x = torch.randn(size=(10, 128))\n",
    "out = model(x)\n",
    "print(out)"
   ]
  },
  {
   "cell_type": "code",
   "execution_count": 10,
   "metadata": {},
   "outputs": [
    {
     "data": {
      "text/plain": [
       "tensor([[-0.1670],\n",
       "        [ 0.0948],\n",
       "        [ 0.0200],\n",
       "        [-0.2024],\n",
       "        [-0.0267],\n",
       "        [ 0.1946],\n",
       "        [ 0.0264],\n",
       "        [-0.0682],\n",
       "        [ 0.4147],\n",
       "        [ 0.0892]], grad_fn=<GatherBackward0>)"
      ]
     },
     "execution_count": 10,
     "metadata": {},
     "output_type": "execute_result"
    }
   ],
   "source": [
    "action_indexs = torch.tensor([0,1,2,0,3,2,3,2,1,0]).unsqueeze(1)\n",
    "out.gather(1, action_indexs)"
   ]
  },
  {
   "attachments": {},
   "cell_type": "markdown",
   "metadata": {},
   "source": [
    "### scatter_\n",
    "scatter_ can be used when you create two-hot representations of tensors as R2D2 or MuZero."
   ]
  },
  {
   "cell_type": "code",
   "execution_count": 3,
   "metadata": {},
   "outputs": [],
   "source": [
    "x = torch.tensor([5.6, 2.4, 3.7, 4.1, 1.5])"
   ]
  },
  {
   "cell_type": "code",
   "execution_count": 6,
   "metadata": {},
   "outputs": [],
   "source": [
    "ceil = x.ceil().long().unsqueeze(1)\n",
    "floor = x.floor().long().unsqueeze(1)\n",
    "ceil_values = (x.ceil() - x).unsqueeze(1)\n",
    "floor_values = (x - x.floor()).unsqueeze(1)"
   ]
  },
  {
   "cell_type": "code",
   "execution_count": 7,
   "metadata": {},
   "outputs": [
    {
     "name": "stdout",
     "output_type": "stream",
     "text": [
      "tensor([[0.0000, 0.0000, 0.0000, 0.0000, 0.0000, 0.6000, 0.4000, 0.0000],\n",
      "        [0.0000, 0.0000, 0.4000, 0.6000, 0.0000, 0.0000, 0.0000, 0.0000],\n",
      "        [0.0000, 0.0000, 0.0000, 0.7000, 0.3000, 0.0000, 0.0000, 0.0000],\n",
      "        [0.0000, 0.0000, 0.0000, 0.0000, 0.1000, 0.9000, 0.0000, 0.0000],\n",
      "        [0.0000, 0.5000, 0.5000, 0.0000, 0.0000, 0.0000, 0.0000, 0.0000]])\n"
     ]
    }
   ],
   "source": [
    "y = torch.zeros(size=(5, 8))\n",
    "y.scatter_(dim=1, index=floor, src=floor_values)\n",
    "y.scatter_(dim=1, index=ceil, src=ceil_values)\n",
    "\n",
    "# x = torch.tensor([5.6, 2.4, 3.7, 4.1, 1.5])\n",
    "print(y)"
   ]
  },
  {
   "cell_type": "markdown",
   "metadata": {},
   "source": [
    "### torch.index_select"
   ]
  },
  {
   "cell_type": "code",
   "execution_count": 7,
   "metadata": {},
   "outputs": [
    {
     "name": "stdout",
     "output_type": "stream",
     "text": [
      "x = \n",
      "tensor([[-0.8281, -0.9005, -0.0318, -0.1816],\n",
      "        [-1.2648, -1.5191, -0.8421,  0.8288],\n",
      "        [ 0.4185, -1.0238,  1.4596, -0.7858]])\n",
      "indices = [0, 2]\n",
      "dimention 0:\n",
      "tensor([[-0.8281, -0.9005, -0.0318, -0.1816],\n",
      "        [ 0.4185, -1.0238,  1.4596, -0.7858]])\n",
      "dimention 1:\n",
      "tensor([[-0.8281, -0.0318],\n",
      "        [-1.2648, -0.8421],\n",
      "        [ 0.4185,  1.4596]])\n"
     ]
    }
   ],
   "source": [
    "x = torch.randn(3, 4)\n",
    "print(\"x = \")\n",
    "print(x)\n",
    "indices = torch.tensor([0, 2])\n",
    "print(\"indices = [0, 2]\")\n",
    "print(\"dimention 0:\")\n",
    "print(torch.index_select(x, 0, indices))\n",
    "print(\"dimention 1:\")\n",
    "print(torch.index_select(x, 1, indices))"
   ]
  },
  {
   "attachments": {},
   "cell_type": "markdown",
   "metadata": {},
   "source": [
    "### Softmax and Categorical"
   ]
  },
  {
   "cell_type": "code",
   "execution_count": 2,
   "metadata": {},
   "outputs": [],
   "source": [
    "class Policy(nn.Module):\n",
    "    def __init__(self):\n",
    "        super(Policy, self).__init__()\n",
    "        self.fc1 = nn.Linear(5, 32)\n",
    "        self.fc2 = nn.Linear(32, 4)\n",
    "    \n",
    "    def forward(self, x):\n",
    "        h = self.fc1(x)\n",
    "        out = self.fc2(h)\n",
    "        return out"
   ]
  },
  {
   "cell_type": "code",
   "execution_count": 3,
   "metadata": {},
   "outputs": [
    {
     "data": {
      "text/plain": [
       "tensor([[ 6.0372e-01,  8.0985e-01, -1.9476e+00,  2.4229e+00,  1.8329e-01],\n",
       "        [ 1.3898e+00, -1.4558e-02, -1.2919e+00,  3.1531e-01,  1.4693e+00],\n",
       "        [ 8.0232e-01, -1.3846e+00,  6.7568e-02, -9.3594e-01, -1.4392e+00],\n",
       "        [ 9.6074e-01, -1.2411e+00, -4.4081e-05,  4.6432e-01, -4.5036e-01],\n",
       "        [ 7.9190e-01,  1.5345e-01, -1.1187e+00,  1.4659e+00, -2.1129e+00],\n",
       "        [ 9.3293e-01,  8.2537e-01,  4.4583e-01,  9.4266e-01,  7.4855e-01],\n",
       "        [ 5.8167e-01,  1.3324e+00, -2.8116e-01, -5.7951e-01, -1.1179e+00],\n",
       "        [ 8.5637e-01,  1.2373e+00,  7.8629e-01,  9.4180e-01, -1.0740e+00],\n",
       "        [ 2.4080e-01,  3.6027e-01, -6.9321e-01,  1.7567e-01,  1.3894e+00],\n",
       "        [ 3.3829e-01,  5.7435e-01, -1.3709e+00, -1.0826e+00, -1.4085e-01]])"
      ]
     },
     "execution_count": 3,
     "metadata": {},
     "output_type": "execute_result"
    }
   ],
   "source": [
    "x = torch.randn(size=(10, 5))\n",
    "x"
   ]
  },
  {
   "cell_type": "code",
   "execution_count": 4,
   "metadata": {},
   "outputs": [
    {
     "name": "stdout",
     "output_type": "stream",
     "text": [
      "tensor([[ 0.1465,  0.0506,  0.3270,  0.5210],\n",
      "        [-0.3177, -0.1910,  0.0661,  0.6125],\n",
      "        [ 0.5380, -0.1261,  0.3877, -0.0265],\n",
      "        [ 0.3427,  0.1663,  0.2317,  0.2643],\n",
      "        [ 0.7497,  0.0257,  0.7787,  0.0279],\n",
      "        [-0.1567,  0.3012, -0.0839,  0.0313],\n",
      "        [ 0.2256, -0.2465,  0.3482, -0.3967],\n",
      "        [ 0.2988,  0.3287,  0.2914, -0.4169],\n",
      "        [-0.2862, -0.0881, -0.2732,  0.3279],\n",
      "        [ 0.0261, -0.5530,  0.1829,  0.0539]], grad_fn=<AddmmBackward0>)\n"
     ]
    }
   ],
   "source": [
    "model = Policy()\n",
    "logits = model(x)\n",
    "print(logits)"
   ]
  },
  {
   "cell_type": "code",
   "execution_count": 5,
   "metadata": {},
   "outputs": [
    {
     "name": "stdout",
     "output_type": "stream",
     "text": [
      "tensor([[0.2193, 0.1992, 0.2626, 0.3189],\n",
      "        [0.1629, 0.1849, 0.2391, 0.4130],\n",
      "        [0.3397, 0.1749, 0.2923, 0.1932],\n",
      "        [0.2734, 0.2292, 0.2447, 0.2528],\n",
      "        [0.3333, 0.1616, 0.3431, 0.1620],\n",
      "        [0.2056, 0.3251, 0.2212, 0.2482],\n",
      "        [0.3039, 0.1895, 0.3435, 0.1631],\n",
      "        [0.2848, 0.2934, 0.2826, 0.1392],\n",
      "        [0.1968, 0.2400, 0.1994, 0.3638],\n",
      "        [0.2661, 0.1491, 0.3112, 0.2736]], grad_fn=<SoftmaxBackward0>)\n"
     ]
    }
   ],
   "source": [
    "softmax = F.softmax(logits, dim=1)\n",
    "print(softmax)"
   ]
  },
  {
   "cell_type": "code",
   "execution_count": 6,
   "metadata": {},
   "outputs": [
    {
     "data": {
      "text/plain": [
       "tensor([1, 2, 2, 3, 0, 1, 0, 2, 0, 1])"
      ]
     },
     "execution_count": 6,
     "metadata": {},
     "output_type": "execute_result"
    }
   ],
   "source": [
    "m = torch.distributions.categorical.Categorical(softmax)\n",
    "m.sample()"
   ]
  },
  {
   "cell_type": "code",
   "execution_count": null,
   "metadata": {},
   "outputs": [],
   "source": []
  }
 ],
 "metadata": {
  "kernelspec": {
   "display_name": "Python 3.10.5 64-bit",
   "language": "python",
   "name": "python3"
  },
  "language_info": {
   "codemirror_mode": {
    "name": "ipython",
    "version": 3
   },
   "file_extension": ".py",
   "mimetype": "text/x-python",
   "name": "python",
   "nbconvert_exporter": "python",
   "pygments_lexer": "ipython3",
   "version": "3.10.5"
  },
  "orig_nbformat": 4,
  "vscode": {
   "interpreter": {
    "hash": "aee8b7b246df8f9039afb4144a1f6fd8d2ca17a180786b69acc140d282b71a49"
   }
  }
 },
 "nbformat": 4,
 "nbformat_minor": 2
}
