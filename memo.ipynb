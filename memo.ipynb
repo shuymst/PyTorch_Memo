{
 "cells": [
  {
   "cell_type": "code",
   "execution_count": 9,
   "metadata": {},
   "outputs": [],
   "source": [
    "import torch\n",
    "import torch.nn as nn\n",
    "import torch.nn.functional as F"
   ]
  },
  {
   "cell_type": "markdown",
   "metadata": {},
   "source": [
    "### about shape"
   ]
  },
  {
   "cell_type": "code",
   "execution_count": 4,
   "metadata": {},
   "outputs": [
    {
     "name": "stdout",
     "output_type": "stream",
     "text": [
      "torch.Size([])\n",
      "torch.Size([1])\n",
      "torch.Size([1, 1])\n"
     ]
    }
   ],
   "source": [
    "x = torch.tensor(1)\n",
    "y = torch.tensor([1])\n",
    "z = torch.tensor([[1]])\n",
    "print(x.shape)\n",
    "print(y.shape)\n",
    "print(z.shape)"
   ]
  },
  {
   "cell_type": "markdown",
   "metadata": {},
   "source": [
    "### torch.cat(tensors, dim=0)\n",
    "All tensors must have the same shape"
   ]
  },
  {
   "cell_type": "code",
   "execution_count": 9,
   "metadata": {},
   "outputs": [
    {
     "name": "stdout",
     "output_type": "stream",
     "text": [
      "tensor([1, 1])\n",
      "tensor([[1],\n",
      "        [1]])\n"
     ]
    }
   ],
   "source": [
    "x = torch.tensor(1)\n",
    "y = torch.tensor([1])\n",
    "z = torch.tensor([[1]])\n",
    "# print(torch.cat([x, x])) Error\n",
    "print(torch.cat([y, y]))\n",
    "print(torch.cat([z, z]))"
   ]
  },
  {
   "cell_type": "markdown",
   "metadata": {},
   "source": [
    "### about view and flatten"
   ]
  },
  {
   "cell_type": "markdown",
   "metadata": {},
   "source": [
    " ### torch.max"
   ]
  },
  {
   "cell_type": "code",
   "execution_count": 5,
   "metadata": {},
   "outputs": [
    {
     "data": {
      "text/plain": [
       "tensor([[ 0.1758, -1.7297,  0.6679, -0.3804],\n",
       "        [-0.7364, -0.5691, -0.0367,  0.2619],\n",
       "        [-1.4519,  0.6855,  1.0648,  1.0596],\n",
       "        [-0.9962,  0.7628,  0.3344, -0.1493]])"
      ]
     },
     "execution_count": 5,
     "metadata": {},
     "output_type": "execute_result"
    }
   ],
   "source": [
    "a = torch.randn(4, 4)\n",
    "a"
   ]
  },
  {
   "cell_type": "code",
   "execution_count": 6,
   "metadata": {},
   "outputs": [
    {
     "data": {
      "text/plain": [
       "torch.return_types.max(\n",
       "values=tensor([0.6679, 0.2619, 1.0648, 0.7628]),\n",
       "indices=tensor([2, 3, 2, 1]))"
      ]
     },
     "execution_count": 6,
     "metadata": {},
     "output_type": "execute_result"
    }
   ],
   "source": [
    "torch.max(a, dim=1)"
   ]
  },
  {
   "cell_type": "markdown",
   "metadata": {},
   "source": [
    "### torch.gather"
   ]
  },
  {
   "cell_type": "code",
   "execution_count": 4,
   "metadata": {},
   "outputs": [
    {
     "name": "stdout",
     "output_type": "stream",
     "text": [
      "tensor([[ 0.2624,  0.5077, -0.0924,  0.2940],\n",
      "        [ 0.1414,  0.3631,  0.3091,  0.2611],\n",
      "        [ 0.0592, -0.1569, -0.1662, -0.0604],\n",
      "        [ 0.1527,  0.6744,  0.1132, -0.1710],\n",
      "        [-0.0991,  0.2439, -0.2503, -0.2905],\n",
      "        [-0.0063, -0.2551, -0.2488, -0.0402],\n",
      "        [ 0.1821, -0.0663, -0.0793,  0.1456],\n",
      "        [ 0.4182,  0.4052, -0.4260, -0.4240],\n",
      "        [ 0.3985,  0.1850,  0.2596,  0.0417],\n",
      "        [ 0.3793,  0.2247,  0.3346, -0.0804]], grad_fn=<AddmmBackward0>)\n"
     ]
    }
   ],
   "source": [
    "class QNetwork(nn.Module):\n",
    "    def __init__(self):\n",
    "        super(QNetwork, self).__init__()\n",
    "        self.fc1 = nn.Linear(128, 64)\n",
    "        self.fc2 = nn.Linear(64, 4)\n",
    "    \n",
    "    def forward(self, x):\n",
    "        h = F.relu(self.fc1(x))\n",
    "        out = self.fc2(h)\n",
    "        return out\n",
    "\n",
    "model = QNetwork()\n",
    "x = torch.randn(size=(10, 128))\n",
    "out = model(x)\n",
    "print(out)"
   ]
  },
  {
   "cell_type": "code",
   "execution_count": 5,
   "metadata": {},
   "outputs": [
    {
     "data": {
      "text/plain": [
       "tensor([[ 0.2624],\n",
       "        [ 0.3631],\n",
       "        [-0.1662],\n",
       "        [-0.1710],\n",
       "        [-0.0991],\n",
       "        [-0.2551],\n",
       "        [-0.0793],\n",
       "        [-0.4240],\n",
       "        [ 0.1850],\n",
       "        [ 0.3346]], grad_fn=<GatherBackward0>)"
      ]
     },
     "execution_count": 5,
     "metadata": {},
     "output_type": "execute_result"
    }
   ],
   "source": [
    "indexs = torch.tensor([[0], [1], [2], [3], [0], [1], [2], [3], [1], [2]])\n",
    "out.gather(1, indexs)"
   ]
  },
  {
   "cell_type": "markdown",
   "metadata": {},
   "source": [
    "### torch.index_select"
   ]
  },
  {
   "cell_type": "code",
   "execution_count": 14,
   "metadata": {},
   "outputs": [
    {
     "name": "stdout",
     "output_type": "stream",
     "text": [
      "x = \n",
      "tensor([[ 1.2081,  0.2444,  2.0005, -0.3794],\n",
      "        [-0.3914,  1.0535,  0.7878,  1.6014],\n",
      "        [-1.2875, -0.2883,  1.6580, -0.9259]])\n",
      "dimention 0:\n",
      "tensor([[ 1.2081,  0.2444,  2.0005, -0.3794],\n",
      "        [-1.2875, -0.2883,  1.6580, -0.9259]])\n",
      "dimention 1:\n",
      "tensor([[ 1.2081,  2.0005],\n",
      "        [-0.3914,  0.7878],\n",
      "        [-1.2875,  1.6580]])\n"
     ]
    }
   ],
   "source": [
    "x = torch.randn(3, 4)\n",
    "print(\"x = \")\n",
    "print(x)\n",
    "indices = torch.tensor([0, 2])\n",
    "print(\"dimention 0:\")\n",
    "print(torch.index_select(x, 0, indices))\n",
    "print(\"dimention 1:\")\n",
    "print(torch.index_select(x, 1, indices))"
   ]
  },
  {
   "cell_type": "markdown",
   "metadata": {},
   "source": [
    "### SoftmaxとCategorical"
   ]
  },
  {
   "cell_type": "code",
   "execution_count": 15,
   "metadata": {},
   "outputs": [],
   "source": [
    "class Policy(nn.Module):\n",
    "    def __init__(self):\n",
    "        super(Policy, self).__init__()\n",
    "        self.fc1 = nn.Linear(5, 32)\n",
    "        self.fc2 = nn.Linear(32, 4)\n",
    "    \n",
    "    def forward(self, x):\n",
    "        h = self.fc1(x)\n",
    "        out = self.fc2(h)\n",
    "        return out"
   ]
  },
  {
   "cell_type": "code",
   "execution_count": 16,
   "metadata": {},
   "outputs": [
    {
     "data": {
      "text/plain": [
       "tensor([[-0.3641,  0.0067,  1.6599, -0.5478, -1.1946],\n",
       "        [ 1.3941,  0.5103, -1.2828,  0.1066, -1.3573],\n",
       "        [ 1.1782, -0.9006, -0.9926, -1.2791, -0.6572],\n",
       "        [-1.4405,  0.2087, -0.2380, -1.4080,  0.6785],\n",
       "        [-0.7524,  0.4348,  0.8985, -0.9169, -1.3506],\n",
       "        [ 0.3669, -1.1351,  0.3406, -0.8650, -0.6660],\n",
       "        [ 0.5459,  1.0183, -0.5866,  0.0033,  0.5139],\n",
       "        [-0.2817,  0.4276,  0.0028, -0.9663, -0.0124],\n",
       "        [-0.5379,  1.2812, -1.9080,  0.8128,  1.3401],\n",
       "        [ 0.9822,  0.7250, -1.9718,  1.0767, -0.5611]])"
      ]
     },
     "execution_count": 16,
     "metadata": {},
     "output_type": "execute_result"
    }
   ],
   "source": [
    "x = torch.randn(size=(10, 5))\n",
    "x"
   ]
  },
  {
   "cell_type": "code",
   "execution_count": 19,
   "metadata": {},
   "outputs": [
    {
     "name": "stdout",
     "output_type": "stream",
     "text": [
      "tensor([[ 0.1457,  0.7777, -0.0076, -0.1573],\n",
      "        [ 0.2245, -0.0301, -1.0757, -0.3668],\n",
      "        [-0.5540,  0.2869, -1.1656, -0.2759],\n",
      "        [-0.1492, -0.4192,  0.0541, -0.3104],\n",
      "        [ 0.0324,  0.5656, -0.0331, -0.2971],\n",
      "        [-0.2354,  0.5225, -0.7100, -0.1889],\n",
      "        [ 0.3637, -0.6060, -0.3224, -0.2035],\n",
      "        [-0.0595, -0.0761, -0.1837, -0.2452],\n",
      "        [ 0.9091, -1.6545, -0.2811, -0.3805],\n",
      "        [ 0.7730, -0.8078, -1.0308, -0.4151]], grad_fn=<AddmmBackward0>)\n"
     ]
    }
   ],
   "source": [
    "model = Policy()\n",
    "logits = model(x)\n",
    "print(logits)"
   ]
  },
  {
   "cell_type": "code",
   "execution_count": 30,
   "metadata": {},
   "outputs": [
    {
     "name": "stdout",
     "output_type": "stream",
     "text": [
      "tensor([[0.2233, 0.4202, 0.1916, 0.1650],\n",
      "        [0.3844, 0.2980, 0.1048, 0.2128],\n",
      "        [0.1930, 0.4475, 0.1047, 0.2549],\n",
      "        [0.2604, 0.1988, 0.3191, 0.2217],\n",
      "        [0.2293, 0.3909, 0.2148, 0.1650],\n",
      "        [0.2082, 0.4442, 0.1295, 0.2181],\n",
      "        [0.4082, 0.1548, 0.2055, 0.2315],\n",
      "        [0.2705, 0.2660, 0.2389, 0.2246],\n",
      "        [0.6036, 0.0465, 0.1836, 0.1662],\n",
      "        [0.5969, 0.1229, 0.0983, 0.1819]], grad_fn=<SoftmaxBackward0>)\n",
      "tensor([[-1.4992, -0.8671, -1.6525, -1.8021],\n",
      "        [-0.9560, -1.2106, -2.2562, -1.5473],\n",
      "        [-1.6451, -0.8042, -2.2567, -1.3670],\n",
      "        [-1.3454, -1.6155, -1.1422, -1.5066],\n",
      "        [-1.4725, -0.9393, -1.5380, -1.8021],\n",
      "        [-1.5694, -0.8114, -2.0440, -1.5229],\n",
      "        [-0.8960, -1.8657, -1.5821, -1.4632],\n",
      "        [-1.3076, -1.3242, -1.4318, -1.4933],\n",
      "        [-0.5048, -3.0683, -1.6949, -1.7943],\n",
      "        [-0.5160, -2.0968, -2.3198, -1.7041]], grad_fn=<LogBackward0>)\n"
     ]
    }
   ],
   "source": [
    "softmax = F.softmax(logits, dim=1)\n",
    "print(softmax)"
   ]
  },
  {
   "cell_type": "code",
   "execution_count": 29,
   "metadata": {},
   "outputs": [
    {
     "data": {
      "text/plain": [
       "tensor([0, 0, 0, 2, 1, 1, 0, 2, 0, 0])"
      ]
     },
     "execution_count": 29,
     "metadata": {},
     "output_type": "execute_result"
    }
   ],
   "source": [
    "m = torch.distributions.categorical.Categorical(softmax)\n",
    "m.sample()"
   ]
  },
  {
   "cell_type": "code",
   "execution_count": null,
   "metadata": {},
   "outputs": [],
   "source": []
  }
 ],
 "metadata": {
  "kernelspec": {
   "display_name": "Python 3.10.5 64-bit",
   "language": "python",
   "name": "python3"
  },
  "language_info": {
   "codemirror_mode": {
    "name": "ipython",
    "version": 3
   },
   "file_extension": ".py",
   "mimetype": "text/x-python",
   "name": "python",
   "nbconvert_exporter": "python",
   "pygments_lexer": "ipython3",
   "version": "3.10.5"
  },
  "orig_nbformat": 4,
  "vscode": {
   "interpreter": {
    "hash": "aee8b7b246df8f9039afb4144a1f6fd8d2ca17a180786b69acc140d282b71a49"
   }
  }
 },
 "nbformat": 4,
 "nbformat_minor": 2
}
